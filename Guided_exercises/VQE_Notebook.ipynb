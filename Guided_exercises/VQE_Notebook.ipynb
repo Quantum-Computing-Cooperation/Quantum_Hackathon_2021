{
  "nbformat": 4,
  "nbformat_minor": 0,
  "metadata": {
    "kernelspec": {
      "display_name": "Python 3",
      "language": "python",
      "name": "python3"
    },
    "language_info": {
      "codemirror_mode": {
        "name": "ipython",
        "version": 3
      },
      "file_extension": ".py",
      "mimetype": "text/x-python",
      "name": "python",
      "nbconvert_exporter": "python",
      "pygments_lexer": "ipython3",
      "version": "3.9.2"
    },
    "colab": {
      "name": "VQE_Notebook.ipynb",
      "provenance": [],
      "collapsed_sections": []
    }
  },
  "cells": [
    {
      "cell_type": "markdown",
      "metadata": {
        "id": "W1lmh0QHZW1F"
      },
      "source": [
        "# The Variational Quantum Eigensolver algorithm"
      ]
    },
    {
      "cell_type": "code",
      "metadata": {
        "id": "IBfY8Ugpaqwh",
        "colab": {
          "base_uri": "https://localhost:8080/"
        },
        "outputId": "4e3e70ca-d403-4837-ff35-9adb112ca5e8"
      },
      "source": [
        "!pip install qiskit"
      ],
      "execution_count": null,
      "outputs": [
        {
          "output_type": "stream",
          "name": "stdout",
          "text": [
            "Requirement already satisfied: qiskit in /usr/local/lib/python3.7/dist-packages (0.32.0)\n",
            "Requirement already satisfied: qiskit-aer==0.9.1 in /usr/local/lib/python3.7/dist-packages (from qiskit) (0.9.1)\n",
            "Requirement already satisfied: qiskit-ignis==0.6.0 in /usr/local/lib/python3.7/dist-packages (from qiskit) (0.6.0)\n",
            "Requirement already satisfied: qiskit-aqua==0.9.5 in /usr/local/lib/python3.7/dist-packages (from qiskit) (0.9.5)\n",
            "Requirement already satisfied: qiskit-ibmq-provider==0.18.0 in /usr/local/lib/python3.7/dist-packages (from qiskit) (0.18.0)\n",
            "Requirement already satisfied: qiskit-terra==0.18.3 in /usr/local/lib/python3.7/dist-packages (from qiskit) (0.18.3)\n",
            "Requirement already satisfied: scipy>=1.0 in /usr/local/lib/python3.7/dist-packages (from qiskit-aer==0.9.1->qiskit) (1.4.1)\n",
            "Requirement already satisfied: numpy>=1.16.3 in /usr/local/lib/python3.7/dist-packages (from qiskit-aer==0.9.1->qiskit) (1.19.5)\n",
            "Requirement already satisfied: yfinance>=0.1.62 in /usr/local/lib/python3.7/dist-packages (from qiskit-aqua==0.9.5->qiskit) (0.1.66)\n",
            "Requirement already satisfied: psutil>=5 in /usr/local/lib/python3.7/dist-packages (from qiskit-aqua==0.9.5->qiskit) (5.4.8)\n",
            "Requirement already satisfied: scikit-learn>=0.20.0 in /usr/local/lib/python3.7/dist-packages (from qiskit-aqua==0.9.5->qiskit) (1.0.1)\n",
            "Requirement already satisfied: fastdtw<=0.3.4 in /usr/local/lib/python3.7/dist-packages (from qiskit-aqua==0.9.5->qiskit) (0.3.4)\n",
            "Requirement already satisfied: setuptools>=40.1.0 in /usr/local/lib/python3.7/dist-packages (from qiskit-aqua==0.9.5->qiskit) (57.4.0)\n",
            "Requirement already satisfied: quandl in /usr/local/lib/python3.7/dist-packages (from qiskit-aqua==0.9.5->qiskit) (3.7.0)\n",
            "Requirement already satisfied: pandas in /usr/local/lib/python3.7/dist-packages (from qiskit-aqua==0.9.5->qiskit) (1.1.5)\n",
            "Requirement already satisfied: dlx<=1.0.4 in /usr/local/lib/python3.7/dist-packages (from qiskit-aqua==0.9.5->qiskit) (1.0.4)\n",
            "Requirement already satisfied: docplex>=2.21.207 in /usr/local/lib/python3.7/dist-packages (from qiskit-aqua==0.9.5->qiskit) (2.22.213)\n",
            "Requirement already satisfied: retworkx>=0.8.0 in /usr/local/lib/python3.7/dist-packages (from qiskit-aqua==0.9.5->qiskit) (0.10.2)\n",
            "Requirement already satisfied: sympy>=1.3 in /usr/local/lib/python3.7/dist-packages (from qiskit-aqua==0.9.5->qiskit) (1.7.1)\n",
            "Requirement already satisfied: h5py<3.3.0 in /usr/local/lib/python3.7/dist-packages (from qiskit-aqua==0.9.5->qiskit) (3.1.0)\n",
            "Requirement already satisfied: websocket-client>=1.0.1 in /usr/local/lib/python3.7/dist-packages (from qiskit-ibmq-provider==0.18.0->qiskit) (1.2.1)\n",
            "Requirement already satisfied: python-dateutil>=2.8.0 in /usr/local/lib/python3.7/dist-packages (from qiskit-ibmq-provider==0.18.0->qiskit) (2.8.2)\n",
            "Requirement already satisfied: urllib3>=1.21.1 in /usr/local/lib/python3.7/dist-packages (from qiskit-ibmq-provider==0.18.0->qiskit) (1.24.3)\n",
            "Requirement already satisfied: requests>=2.19 in /usr/local/lib/python3.7/dist-packages (from qiskit-ibmq-provider==0.18.0->qiskit) (2.23.0)\n",
            "Requirement already satisfied: requests-ntlm>=1.1.0 in /usr/local/lib/python3.7/dist-packages (from qiskit-ibmq-provider==0.18.0->qiskit) (1.1.0)\n",
            "Requirement already satisfied: python-constraint>=1.4 in /usr/local/lib/python3.7/dist-packages (from qiskit-terra==0.18.3->qiskit) (1.4.0)\n",
            "Requirement already satisfied: fastjsonschema>=2.10 in /usr/local/lib/python3.7/dist-packages (from qiskit-terra==0.18.3->qiskit) (2.15.1)\n",
            "Requirement already satisfied: tweedledum<2.0,>=1.1 in /usr/local/lib/python3.7/dist-packages (from qiskit-terra==0.18.3->qiskit) (1.1.1)\n",
            "Requirement already satisfied: ply>=3.10 in /usr/local/lib/python3.7/dist-packages (from qiskit-terra==0.18.3->qiskit) (3.11)\n",
            "Requirement already satisfied: jsonschema>=2.6 in /usr/local/lib/python3.7/dist-packages (from qiskit-terra==0.18.3->qiskit) (2.6.0)\n",
            "Requirement already satisfied: dill>=0.3 in /usr/local/lib/python3.7/dist-packages (from qiskit-terra==0.18.3->qiskit) (0.3.4)\n",
            "Requirement already satisfied: symengine>0.7 in /usr/local/lib/python3.7/dist-packages (from qiskit-terra==0.18.3->qiskit) (0.8.1)\n",
            "Requirement already satisfied: six in /usr/local/lib/python3.7/dist-packages (from docplex>=2.21.207->qiskit-aqua==0.9.5->qiskit) (1.15.0)\n",
            "Requirement already satisfied: cached-property in /usr/local/lib/python3.7/dist-packages (from h5py<3.3.0->qiskit-aqua==0.9.5->qiskit) (1.5.2)\n",
            "Requirement already satisfied: certifi>=2017.4.17 in /usr/local/lib/python3.7/dist-packages (from requests>=2.19->qiskit-ibmq-provider==0.18.0->qiskit) (2021.10.8)\n",
            "Requirement already satisfied: chardet<4,>=3.0.2 in /usr/local/lib/python3.7/dist-packages (from requests>=2.19->qiskit-ibmq-provider==0.18.0->qiskit) (3.0.4)\n",
            "Requirement already satisfied: idna<3,>=2.5 in /usr/local/lib/python3.7/dist-packages (from requests>=2.19->qiskit-ibmq-provider==0.18.0->qiskit) (2.10)\n",
            "Requirement already satisfied: cryptography>=1.3 in /usr/local/lib/python3.7/dist-packages (from requests-ntlm>=1.1.0->qiskit-ibmq-provider==0.18.0->qiskit) (35.0.0)\n",
            "Requirement already satisfied: ntlm-auth>=1.0.2 in /usr/local/lib/python3.7/dist-packages (from requests-ntlm>=1.1.0->qiskit-ibmq-provider==0.18.0->qiskit) (1.5.0)\n",
            "Requirement already satisfied: cffi>=1.12 in /usr/local/lib/python3.7/dist-packages (from cryptography>=1.3->requests-ntlm>=1.1.0->qiskit-ibmq-provider==0.18.0->qiskit) (1.15.0)\n",
            "Requirement already satisfied: pycparser in /usr/local/lib/python3.7/dist-packages (from cffi>=1.12->cryptography>=1.3->requests-ntlm>=1.1.0->qiskit-ibmq-provider==0.18.0->qiskit) (2.21)\n",
            "Requirement already satisfied: threadpoolctl>=2.0.0 in /usr/local/lib/python3.7/dist-packages (from scikit-learn>=0.20.0->qiskit-aqua==0.9.5->qiskit) (3.0.0)\n",
            "Requirement already satisfied: joblib>=0.11 in /usr/local/lib/python3.7/dist-packages (from scikit-learn>=0.20.0->qiskit-aqua==0.9.5->qiskit) (1.1.0)\n",
            "Requirement already satisfied: mpmath>=0.19 in /usr/local/lib/python3.7/dist-packages (from sympy>=1.3->qiskit-aqua==0.9.5->qiskit) (1.2.1)\n",
            "Requirement already satisfied: lxml>=4.5.1 in /usr/local/lib/python3.7/dist-packages (from yfinance>=0.1.62->qiskit-aqua==0.9.5->qiskit) (4.6.4)\n",
            "Requirement already satisfied: multitasking>=0.0.7 in /usr/local/lib/python3.7/dist-packages (from yfinance>=0.1.62->qiskit-aqua==0.9.5->qiskit) (0.0.10)\n",
            "Requirement already satisfied: pytz>=2017.2 in /usr/local/lib/python3.7/dist-packages (from pandas->qiskit-aqua==0.9.5->qiskit) (2018.9)\n",
            "Requirement already satisfied: more-itertools in /usr/local/lib/python3.7/dist-packages (from quandl->qiskit-aqua==0.9.5->qiskit) (8.11.0)\n",
            "Requirement already satisfied: inflection>=0.3.1 in /usr/local/lib/python3.7/dist-packages (from quandl->qiskit-aqua==0.9.5->qiskit) (0.5.1)\n"
          ]
        }
      ]
    },
    {
      "cell_type": "markdown",
      "metadata": {
        "id": "_z8Nr7-oZW1N"
      },
      "source": [
        "The goal of this notebook is to guide through a VQE implemenation for a Ising type Hamiltonian. This notebook is a squeleton code and some parts must be improved. The \"examples\" has to be taken as inspiration and improved. The VQE algorithms permit to compute the ground state energy of physical systems. First some import."
      ]
    },
    {
      "cell_type": "code",
      "metadata": {
        "id": "uMnXsM8lZW1P"
      },
      "source": [
        "# Comment !!!\n",
        "from qiskit.opflow import Z, I, X, Y\n",
        "from qiskit.opflow import CircuitStateFn, StateFn, CircuitSampler, PauliExpectation, ListOp\n",
        "from qiskit.providers.aer import AerSimulator\n",
        "from qiskit.utils import QuantumInstance\n",
        "from qiskit.circuit import QuantumCircuit, QuantumRegister, Parameter, ParameterVector\n",
        "from qiskit.algorithms.optimizers import ADAM, SPSA\n",
        "from qiskit.circuit.library import TwoLocal\n",
        "from qiskit.circuit.library.n_local import EfficientSU2, RealAmplitudes\n",
        "from qiskit import Aer, execute\n",
        "\n",
        "import numpy as np\n",
        "import matplotlib.pyplot as plt"
      ],
      "execution_count": null,
      "outputs": []
    },
    {
      "cell_type": "markdown",
      "metadata": {
        "id": "a4luxd8EZW1U"
      },
      "source": [
        "The first step is to implement the Transverse Ising Hamiltonian with periodic boundary conditions wand an external field using the qiskit.opflow module. We wish to implement the following Hamiltonian \n",
        "\\begin{equation}\n",
        "H=J_z\\sum_{i=0}^{N}\\sigma_i^z\\sigma_{i+1}^z + h\\sum_{i=0}^{N}\\sigma_i^x,\n",
        "\\end{equation}\n",
        "In the opflow module, the Pauli operators are given by I, X, Y and Z and you may use @ or * for the matrix multiplication and ^ for the tensor product."
      ]
    },
    {
      "cell_type": "code",
      "metadata": {
        "id": "MaOW-jL5ZW1V",
        "colab": {
          "base_uri": "https://localhost:8080/"
        },
        "outputId": "72f77d49-09be-48b9-a9ac-7b322a8b937c"
      },
      "source": [
        "# implement the Transverse Ising Hamiltonian H with periodic bounday conditions and parameters N, J and h.\n",
        "n_qubits = 3\n",
        "\n",
        "N = 3\n",
        "\n",
        "h = 1\n",
        "J = 1\n",
        "\n",
        "H = 0\n",
        "for i in range(N-1):\n",
        "    H += (J * (I^i)^(Z^Z)^(I^(N-2-i))) + (h * (I^i)^X^(I^(N-1-i)))\n",
        "# Boundary Condition\n",
        "H += (J * Z^(I^(N-2))^Z) + (h * (I^(N-1))^X)\n",
        "\n",
        "# to contract similar terms together\n",
        "H = H.reduce()\n",
        "print(H)"
      ],
      "execution_count": null,
      "outputs": [
        {
          "output_type": "stream",
          "name": "stdout",
          "text": [
            "1.0 * ZZI\n",
            "+ 1.0 * ZIZ\n",
            "+ 1.0 * IZZ\n",
            "+ 1.0 * XII\n",
            "+ 1.0 * IXI\n",
            "+ 1.0 * IIX\n"
          ]
        }
      ]
    },
    {
      "cell_type": "markdown",
      "metadata": {
        "id": "ujRGBO_hZW1X"
      },
      "source": [
        "### The Ansatz\n",
        "Now that we have the Hamiltonian operator, we will need an ansatz for our wavefunction. In quantum computing, an ansatz is a circuit that at the end will produce a qubit state $\\left |\\psi \\right >$. In this case, we need a variational ansatz, so some gates will contains parameters that are going to be iteratively optimized (as an example, rotation on the $x,y,z$ axis).\n",
        "\n",
        "There is no analytical way to choose an ansatz for the system: there are empirical rules based on similarity with what we are studying.\n",
        "Some ans&auml;tze come from classical computational chemistry, such as the highly accurate [q-UCCSD](https://arxiv.org/pdf/1506.00443.pdf),  but mostly we have to consider some circuits that can be run on current devices, so they have to contain few two qubits gates and be relatively shallow: these ans&auml;tze are called hardware-efficient.\n",
        "\n",
        "\n",
        "What we are going to consider is one of the so-called hardware-efficient ans&auml;tze. \n",
        "The system does not contain many qubits, so our trial ansatz will be very simple : a layer of rotations around the $y$-axis followed by CNOTs and again a layer of rotations. This simple structure can be easily extended both in depth (adding more CNOTs and rotation) and in width, to study bigger system, therefore is widely used."
      ]
    },
    {
      "cell_type": "markdown",
      "metadata": {
        "id": "FC1QEmMyZW1Z"
      },
      "source": [
        "As an introduction, try to implement the circuit defined above, with 3 qubits.  \n",
        "One you get an understanding, you can try to reliate to the template class [TwoLocal](https://qiskit.org/documentation/stubs/qiskit.circuit.library.TwoLocal.html), [EfficientSU2](https://qiskit.org/documentation/stubs/qiskit.circuit.library.EfficientSU2.html) or [RealAmplitude](https://qiskit.org/documentation/stubs/qiskit.circuit.library.RealAmplitudes.html) to design quickly any quantum circuit you like.\n",
        "\n"
      ]
    },
    {
      "cell_type": "markdown",
      "metadata": {
        "id": "UAA1xx80ZW1a"
      },
      "source": [
        "Hint: Try to work in a general way in order to to remain flexible.  \n",
        "Hint: You can use the ParameterVector class to create parametrized circuits and bind numerical values at the end."
      ]
    },
    {
      "cell_type": "code",
      "metadata": {
        "id": "_gSO_vMcZW1a",
        "colab": {
          "base_uri": "https://localhost:8080/"
        },
        "outputId": "14d50949-e361-43f5-c738-d406359c69e2"
      },
      "source": [
        "n_qubits = 3\n",
        "n_layers = 2\n",
        "params = ParameterVector('θ',(n_qubits*6))\n",
        "\n",
        "qr = QuantumRegister(n_qubits)\n",
        "ansatz = QuantumCircuit(qr)\n",
        "\n",
        "# Example for the first layer\n",
        "\n",
        "for k in range(n_layers-1):\n",
        "    for i in range(n_qubits):\n",
        "        ansatz.ry(params[i + n_qubits*k], i)\n",
        "    ansatz.barrier()\n",
        "    for i in range(n_qubits):\n",
        "        ansatz.cx(i, (i+1) % n_qubits)\n",
        "    ansatz.barrier()\n",
        "for i in range(n_qubits):\n",
        "    ansatz.ry(params[i + n_qubits*(n_layers-1)], i)\n",
        "ansatz.barrier()\n",
        "  \n",
        "\n",
        "print(ansatz.draw())\n",
        "\n",
        "    "
      ],
      "execution_count": null,
      "outputs": [
        {
          "output_type": "stream",
          "name": "stdout",
          "text": [
            "          ┌──────────┐ ░           ┌───┐ ░ ┌──────────┐ ░ \n",
            "q84222_0: ┤ Ry(θ[0]) ├─░───■───────┤ X ├─░─┤ Ry(θ[3]) ├─░─\n",
            "          ├──────────┤ ░ ┌─┴─┐     └─┬─┘ ░ ├──────────┤ ░ \n",
            "q84222_1: ┤ Ry(θ[1]) ├─░─┤ X ├──■────┼───░─┤ Ry(θ[4]) ├─░─\n",
            "          ├──────────┤ ░ └───┘┌─┴─┐  │   ░ ├──────────┤ ░ \n",
            "q84222_2: ┤ Ry(θ[2]) ├─░──────┤ X ├──■───░─┤ Ry(θ[5]) ├─░─\n",
            "          └──────────┘ ░      └───┘      ░ └──────────┘ ░ \n"
          ]
        }
      ]
    },
    {
      "cell_type": "markdown",
      "metadata": {
        "id": "xMiqodnjZW1d"
      },
      "source": [
        "### The VQE algorithm"
      ]
    },
    {
      "cell_type": "markdown",
      "metadata": {
        "id": "e7Bm84a2ZW1e"
      },
      "source": [
        "The core of the Variational Quantum Eigensolver is to optimize a parametrized trial wavefunction to minimize the energy expectation of the Hamiltonian of interest. By the variational theorem, this would yield a good estimate of the true groundstate and its energy.   \n",
        "In the following, we will implement the VQE algorithm. For this purpose, we need the expectation value of the Hamiltonian, its gradient with respect to the ansatz's parameters and an optimizer to update them.\n",
        "We remember, that for an involutive quantum gate (i.e. any single qubit rotation), the gradient of the expectation value with respect to its parameter $\\theta$ is given by\n",
        "\n",
        "$$\\frac{d}{d\\theta}\\left<\\psi(\\theta)|H|\\psi(\\theta)\\right> =$$\n",
        "$$\\frac{1}{2} \\left[\\left<\\psi(\\theta+\\pi/2)|H|\\psi(\\theta+\\pi/2)\\right> - \\left<\\psi(\\theta-\\pi/2)|H|\\psi(\\theta-\\pi/2)\\right>\\right].$$\n"
      ]
    },
    {
      "cell_type": "markdown",
      "metadata": {
        "id": "fdVbXoFWZW1e"
      },
      "source": [
        "We will compute the expectation value by sampling the wavefunction. For example, $$ \\left< ZZ\\right>= [\\text{counts}(00) + \\text{counts}(11) - \\text{counts}(01) - \\text{counts}(10) ]/ \\text{shots}.$$ Note that we can only measure in the Z basis. To measure another Pauli string P, we will have to append a unitary U after the ansatz to perform a basis rotation. U has to be chosen such that \n",
        "$$U^\\dagger Z^N U = P.$$\n",
        "\n",
        "If the identity is present in the Pauli string, we will act on the remaining subspace. That means, you can perform the same technique by forgetting the dimension where $I$ is present. \n",
        "Note that in qiskit, we read the qubits from right to left. That means that XZ = $X_1Z_0$\n"
      ]
    },
    {
      "cell_type": "code",
      "metadata": {
        "id": "LeJcnHY6ZW1f"
      },
      "source": [
        "noise_model = None # the noise model used to simulate the hardware, for now, leave it to None (no noise)\n",
        "\n",
        "\n",
        "class VQE:\n",
        "    def __init__(self,ansatz, qr, H):\n",
        "        self.H = H\n",
        "        self.ansatz = ansatz\n",
        "        self.qr = qr\n",
        "        self.backend = Aer.get_backend('qasm_simulator',noise = noise_model)\n",
        "        self.shots = 2**12 # number of sample used to approximate the expectation value\n",
        "        #choose some classical optimizer. You may take a gradient based or gradient free optimizer \n",
        "        # and play with the hyperparameters as well.\n",
        "        self.optimizer = ADAM(maxiter=1, tol=1e-06, lr=0.1, beta_1=0.9, beta_2=0.99, amsgrad=False)\n",
        "        \n",
        "\n",
        "        \n",
        "        \n",
        "    def expectation_value(self,parameters):\n",
        "    \n",
        "        '''\n",
        "        return the expectation value of the quantum circuit wrt to the observable H\n",
        "        \n",
        "        '''\n",
        "      \n",
        "        result = 0\n",
        "        \n",
        "        for i in range(len(self.H)): #loop over the pauli terms\n",
        "            ansatz = self.ansatz.bind_parameters(parameters)   #insert the parameters\n",
        "            coeff = self.H[i].primitive.coeffs                 # get the coefficient\n",
        "            pauli = self.H[i].primitive.table.to_labels()[0]   #get the pauli string\n",
        "            \n",
        "            observable, measure_which = self.basis_change(pauli)  #get which qubits to measure and the basis change\n",
        "            \n",
        "            ansatz.append(observable,self.qr)  # append the basis change\n",
        "            ansatz.measure_all()          # measure all the qubits\n",
        "            \n",
        "            job = execute(ansatz, self.backend, shots=self.shots)  \n",
        "            counts = job.result().get_counts()\n",
        "            result = result + coeff * self.expectation_from_counts(counts,measure_which)\n",
        "            \n",
        "            \n",
        "        \n",
        "        return result.real\n",
        "    \n",
        "    def basis_change(self,pauli):\n",
        "        '''transform the measurement basis as function of the observable\n",
        "        return: -quantum circuit to append to the ansatz\n",
        "                -qubit to measure\n",
        "        '''\n",
        "        observable = QuantumCircuit(len(pauli))   #the basis transformation circuit U to append to the ansatz\n",
        "        \n",
        "        measure_which = []  #which qubit we will have to measure\n",
        "        for i in range(len(pauli)):\n",
        "            if pauli[i] == 'X':\n",
        "                observable.h(i)\n",
        "                measure_which += [i]\n",
        "            elif pauli[i] == 'Y':\n",
        "                observable.s(i)\n",
        "                observable.h(i)\n",
        "                observable.s(i)\n",
        "                measure_which += [i]\n",
        "            elif pauli[i] == 'Z':\n",
        "                measure_which += [i]\n",
        "            \n",
        "        return observable, measure_which\n",
        "    \n",
        "    def expectation_from_counts(self,counts,measure_which):\n",
        "        '''compute the expectation value from counts\n",
        "        Tipp: look at the parity of the state\n",
        "        remember: in qiskit we read the qubits from right to left\n",
        "\n",
        "        '''\n",
        "        \n",
        "        total_counts = np.sum([counts[key] for key in counts])\n",
        "        expectation = 0\n",
        "        \n",
        "        if len(measure_which)==0:\n",
        "            # return the expectation value when the pauli is the identity\n",
        "            # just sum the probabilities\n",
        "            probs = np.array(counts.values()) / total_counts\n",
        "            return np.sum(probs)\n",
        "        \n",
        "        for state in counts:\n",
        "            parity = (-1) ** np.bitwise_xor.reduce([int(b) for b in state]) # your code goes here, compute the parity of the state\n",
        "            expectation += parity * counts[state] # your code goes here\n",
        "        \n",
        "        return expectation / total_counts\n",
        "    \n",
        "    def gradient(self,parameters):\n",
        "        '''\n",
        "        return the gradient of the quantum circuit \n",
        "        \n",
        "        '''\n",
        "        \n",
        "        gradients = np.zeros_like(parameters)\n",
        "        for i,p in enumerate(parameters):\n",
        "           \n",
        "            shift = np.zeros_like(parameters)\n",
        "            shift[i] = np.pi/2\n",
        "            gradients[i] = 0.5 * (self.expectation_value(p + shift) - self.expectation_value(p - shift))\n",
        "        \n",
        "        return gradients\n",
        "    \n",
        "    def update(self,parameters):\n",
        "        '''\n",
        "        update the parameters with the classical optimizer\n",
        "        \n",
        "        '''\n",
        "        parameters, loss, it = self.optimizer.optimize(parameters.size,\n",
        "                        lambda param: self.expectation_value(param),\n",
        "                        gradient_function= lambda param: self.gradient(param),initial_point=parameters)\n",
        "        \n",
        "        return loss, parameters\n",
        " \n",
        "\n",
        "        "
      ],
      "execution_count": null,
      "outputs": []
    },
    {
      "cell_type": "code",
      "metadata": {
        "id": "FIlN6MP_ZW1g",
        "colab": {
          "base_uri": "https://localhost:8080/",
          "height": 447
        },
        "outputId": "6a998c15-e0f0-4c40-e52e-04d9cb72ed77"
      },
      "source": [
        "%matplotlib inline\n",
        "plt.ion()\n",
        "fig = plt.figure()\n",
        "ax = fig.add_subplot(111)\n",
        "\n",
        "# Here we choose some initial weights and optimize them\n",
        "np.random.seed(1)\n",
        "weights = np.pi * np.random.normal(0,1,size = len(ansatz.parameters))\n",
        "\n",
        "vqe  = VQE(ansatz, qr, H)\n",
        "exact_energy = min(np.real(np.linalg.eig(H.to_matrix())[0]))   # exact smallest eigenvalue\n",
        "loss = []\n",
        "epoch = 10\n",
        "for i in range(epoch):\n",
        "    # update the parameters and save the loss in loss\n",
        "    loss_tmp, weights = vqe.update(weights)\n",
        "    loss.append(loss_tmp)\n",
        "    print(i, loss_tmp)\n",
        "    \n",
        "#plot the learning curve\n",
        "ax.clear()\n",
        "ax.plot(loss,'b.',label='VQE')\n",
        "ax.plot(exact_energy*np.ones_like(range(epoch)),'k--',label='exact')\n",
        "ax.plot(range(epoch), loss, label='loss')\n",
        "ax.legend()\n",
        "ax.set_xlim([-0.2, epoch])\n",
        "fig.show()\n",
        "fig.canvas.draw()"
      ],
      "execution_count": null,
      "outputs": [
        {
          "output_type": "stream",
          "name": "stdout",
          "text": [
            "0 [-0.88525391]\n",
            "1 [-1.35400391]\n",
            "2 [-1.85839844]\n",
            "3 [-2.38720703]\n",
            "4 [-2.54931641]\n",
            "5 [-2.99462891]\n",
            "6 [-3.14453125]\n",
            "7 [-3.36376953]\n",
            "8 [-3.28759766]\n",
            "9 [-3.46679688]\n"
          ]
        },
        {
          "output_type": "display_data",
          "data": {
            "image/png": "[encoded data removed]",
            "text/plain": [
              "<Figure size 432x288 with 1 Axes>"
            ]
          },
          "metadata": {
            "needs_background": "light"
          }
        }
      ]
    },
    {
      "cell_type": "markdown",
      "metadata": {
        "id": "sKZ8W5orZW1h"
      },
      "source": [
        "Once you have a working script, you can try to imrpove it. For example you could try to use an ansatz with less parameters as possible, or with less CNOT gates as possible. CNOT gates are expensive and with a relativ high error rates so it is good to design ansatz with few of them. You could also try to explore more complexe Hamiltonian, for example with more qubits, more interaction or let vary the constant J. Another thing which is worth exploring is the optimizer itself. The SPSA optimizer is a solid choice as it uses a fix number of points to estimate the gradients and is therefore quicker than gradient descent and also robust to shot noise. A last thing you could play with, is to add noise to the hardware, as shown below."
      ]
    },
    {
      "cell_type": "code",
      "metadata": {
        "id": "lCqZLlk_ZW1h"
      },
      "source": [
        "import qiskit.providers.aer.noise as noise\n",
        "error_1 = noise.depolarizing_error(0.001, 1)  #error rate of single qubit gates\n",
        "error_2 = noise.depolarizing_error(0.01, 2)   #error rate of double qubit gates\n",
        "\n",
        "\n",
        "noise_model = noise.NoiseModel()\n",
        "noise_model.add_all_qubit_quantum_error(error_1, ['u1,u2,u3'])  # add the single-qubit gates where you want to have noise\n",
        "noise_model.add_all_qubit_quantum_error(error_2, ['cx'])       # add the double-qubits gates where you want to have noise\n",
        "\n",
        "#Then you can just use this noise model in the quantum instance of the VQE \n",
        "#to automatically incoporate it in the computations"
      ],
      "execution_count": null,
      "outputs": []
    },
    {
      "cell_type": "code",
      "metadata": {
        "id": "wxFgxMXJ4-5M"
      },
      "source": [
        ""
      ],
      "execution_count": null,
      "outputs": []
    }
  ]
}