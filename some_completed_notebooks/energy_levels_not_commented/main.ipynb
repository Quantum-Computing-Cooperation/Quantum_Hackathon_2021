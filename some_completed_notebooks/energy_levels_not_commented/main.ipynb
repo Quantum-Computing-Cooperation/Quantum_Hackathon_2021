{
 "cells": [
  {
   "cell_type": "code",
   "execution_count": 5,
   "id": "22c8b170-cb9f-4e07-ba7e-9ff3e4c5c188",
   "metadata": {},
   "outputs": [],
   "source": [
    "from hamiltonian import *\n",
    "from ansatz import *\n",
    "\n",
    "depth = 3\n",
    "spins = 3\n",
    "ex_params = np.zeros((depth+1)*spins +depth*(spins-1))\n",
    "test_ansatz = ansatz"
   ]
  },
  {
   "cell_type": "code",
   "execution_count": 6,
   "id": "96389927-fbc1-4b59-92e6-107460ae3402",
   "metadata": {},
   "outputs": [],
   "source": [
    "from qiskit import Aer\n",
    "from qiskit.utils import QuantumInstance\n",
    "from qiskit import IBMQ\n",
    "from qiskit.compiler import transpile, assemble\n",
    "from qiskit.providers.ibmq import least_busy\n",
    "\n",
    "exact_backend = Aer.get_backend('statevector_simulator')\n",
    "exact_instance = QuantumInstance(exact_backend, seed_simulator=2, seed_transpiler=2)"
   ]
  },
  {
   "cell_type": "code",
   "execution_count": 7,
   "id": "3672fb19-7cbb-42a5-a3ee-a5007e67378a",
   "metadata": {},
   "outputs": [],
   "source": [
    "n_qubits = 2\n",
    "shots    = 1000\n",
    "n_reps   = 100\n",
    "lr       = 0.1\n",
    "n_layer  = 5\n",
    "length = n_layer*3*n_qubits\n",
    "params   = np.random.rand(length)"
   ]
  },
  {
   "cell_type": "markdown",
   "id": "724759c5-c13e-4cf7-b3b8-0dfdffe12d39",
   "metadata": {},
   "source": [
    "# VQE calculation of the ground state"
   ]
  },
  {
   "cell_type": "code",
   "execution_count": 8,
   "id": "7c5b4da6-1528-4a35-9964-4de0f2f81031",
   "metadata": {},
   "outputs": [],
   "source": [
    "from vqe import *\n",
    "from energy import *\n",
    "\n",
    "#from qiskit.opflow              import Z, I, X\n",
    "#H = (0.011280*Z^Z) +(0.397936*Z^I) +(0.397936*I^Z) +(0.180931*X^X)\n",
    "H = generate_XYZ(J_x=0, J_y=0,J_z=1,field=1,n_spins=n_qubits,pbc=True)"
   ]
  },
  {
   "cell_type": "code",
   "execution_count": null,
   "id": "0a17a9ab-19dd-4953-a36f-b1e7344ae37b",
   "metadata": {},
   "outputs": [
    {
     "name": "stdout",
     "output_type": "stream",
     "text": [
      "Run number:  1\n",
      "Energy: 0.2523425159950168\n",
      "========================= \n",
      "\n",
      "Run number:  11\n",
      "Energy: -2.756754878640802\n",
      "========================= \n",
      "\n",
      "Run number:  21\n",
      "Energy: -2.7997438871170877\n",
      "========================= \n",
      "\n",
      "Run number:  31\n",
      "Energy: -2.816340495130692\n",
      "========================= \n",
      "\n"
     ]
    }
   ],
   "source": [
    "res = VQE(n_qubits,n_layer,H,test_ansatz,params,shots,exact_instance,lr,n_reps)"
   ]
  },
  {
   "cell_type": "code",
   "execution_count": 11,
   "id": "88d9214b-9c31-485b-bf92-0342dca658ae",
   "metadata": {},
   "outputs": [
    {
     "name": "stdout",
     "output_type": "stream",
     "text": [
      "Ground state calculation:  -3.454831823965546\n",
      "1.053312261657613824e+00 6.990688089365071356e-01 1.347050254281483062e+00 2.781879421902949123e-01 7.032281301003986407e-01 4.902068660021416391e-01 7.459680089723027541e-01 1.353625437241991580e+00 7.360383861253811943e-01 2.255215007425110940e-01 -2.217910827521589190e-01 1.088981491783503230e+00 3.873022874842658725e-01 9.704727212499111300e-01 1.677589347203101988e-01 1.545538893288344928e+00 1.563095908093893038e-01 1.318206685940026546e+00 1.202627410074559977e+00 5.095327274243363069e-01 5.216588860859777688e-01 -3.415886033813589906e-01 6.623019802170992953e-01 9.158580008217065416e-01 7.760891625535089322e-02 -6.653918952774676154e-02 2.171122460007423108e-02 8.087100463834904218e-01 8.124283565450207689e-01 8.248282753854346838e-01 5.134692489977026320e-01 8.650853863153191714e-01 2.894412582196687067e-01 7.400061645887114903e-01 3.564687709856718678e-01 4.658342253315747028e-01 5.363436979472893107e-01 1.724859912256713201e-01 8.125416215964345046e-01 6.178852169633652913e-01 1.488308351468536905e-01 2.853274271565520159e-02 5.148913082375388139e-01 1.428824519752170952e-01 7.469248542286754944e-02\n",
      "\n"
     ]
    }
   ],
   "source": [
    "print(\"Ground state calculation: \",res['energies'][-1])\n",
    "import numpy as np\n",
    "np.savetxt('parameters.txt',[res[\"curr_params\"]])"
   ]
  },
  {
   "cell_type": "markdown",
   "id": "939aa35d-f5ed-4307-a54a-d96507564ffa",
   "metadata": {},
   "source": [
    "# Constrained VQE calculation of the first excited levels"
   ]
  },
  {
   "cell_type": "code",
   "execution_count": 5,
   "id": "3e7cbe93-6e0d-4f06-b3d0-4480df177478",
   "metadata": {},
   "outputs": [
    {
     "name": "stderr",
     "output_type": "stream",
     "text": [
      "/Library/Frameworks/Python.framework/Versions/3.9/lib/python3.9/site-packages/qiskit/circuit/quantumcircuit.py:869: DeprecationWarning: The QuantumCircuit.combine() method is being deprecated. Use the compose() method which is more flexible w.r.t circuit register compatibility.\n",
      "  return self.combine(rhs)\n"
     ]
    },
    {
     "name": "stdout",
     "output_type": "stream",
     "text": [
      "Run number:  1\n",
      "Energy: 2.0556191058507287\n",
      "Run number:  11\n",
      "Energy: -1.7808353011475706\n",
      "Run number:  21\n",
      "Energy: -1.9383650421991667\n",
      "Run number:  31\n",
      "Energy: -1.9687862631339974\n",
      "Run number:  41\n",
      "Energy: -1.980290280558635\n",
      "Run number:  51\n",
      "Energy: -1.9857857234443548\n",
      "=========================\n",
      "Level n =  1\n",
      "Final Energy: -1.9867069537648052\n",
      "========================= \n",
      "\n",
      "Run number:  1\n",
      "Energy: 4.640840776221143\n",
      "Run number:  11\n",
      "Energy: -0.8252809280739368\n",
      "Run number:  21\n",
      "Energy: -0.4871145535158766\n",
      "Run number:  31\n",
      "Energy: -1.3441883617840078\n",
      "Run number:  41\n",
      "Energy: -1.7984337058455797\n",
      "Run number:  51\n",
      "Energy: -1.9789303960036355\n",
      "=========================\n",
      "Level n =  2\n",
      "Final Energy: -1.98342106762201\n",
      "========================= \n",
      "\n",
      "Run number:  1\n",
      "Energy: 3.608031983578946\n",
      "Run number:  11\n",
      "Energy: 0.19029810232854055\n",
      "Run number:  21\n",
      "Energy: -0.008921336018853773\n",
      "Run number:  31\n",
      "Energy: -0.00895349405178944\n",
      "Run number:  41\n",
      "Energy: 0.016108038121627956\n",
      "Run number:  51\n",
      "Energy: 0.25469888621991776\n",
      "=========================\n",
      "Level n =  3\n",
      "Final Energy: -0.07876710394788067\n",
      "========================= \n",
      "\n",
      "Run number:  1\n",
      "Energy: 7.2665912942863455\n",
      "Run number:  11\n",
      "Energy: 1.220499317348633\n",
      "Run number:  21\n",
      "Energy: 0.3594764036043458\n",
      "Run number:  31\n",
      "Energy: 0.052613829861349035\n",
      "Run number:  41\n",
      "Energy: 0.003736335872877345\n",
      "Run number:  51\n",
      "Energy: -0.004869252015359982\n",
      "=========================\n",
      "Level n =  4\n",
      "Final Energy: -0.008696409922935189\n",
      "========================= \n",
      "\n",
      "Run number:  1\n",
      "Energy: 6.63875171496184\n",
      "Run number:  11\n",
      "Energy: 0.5664055638908861\n",
      "Run number:  21\n",
      "Energy: 1.7945469955371287\n",
      "Run number:  31\n",
      "Energy: 0.33089787718881847\n",
      "Run number:  41\n",
      "Energy: 0.2383845451298379\n",
      "Run number:  51\n",
      "Energy: 0.9251810042117681\n",
      "=========================\n",
      "Level n =  5\n",
      "Final Energy: 0.03001375610497814\n",
      "========================= \n",
      "\n",
      "Run number:  1\n",
      "Energy: 7.608118274228915\n",
      "Run number:  11\n",
      "Energy: 3.7501059856457863\n",
      "Run number:  21\n",
      "Energy: 3.717634557013465\n",
      "Run number:  31\n",
      "Energy: 3.7173484253456013\n",
      "Run number:  41\n",
      "Energy: 3.7239918674334307\n",
      "Run number:  51\n",
      "Energy: 3.7519778189058\n",
      "=========================\n",
      "Level n =  6\n",
      "Final Energy: 3.6419354552930345\n",
      "========================= \n",
      "\n",
      "Run number:  1\n",
      "Energy: 10.972620461953529\n",
      "Run number:  11\n",
      "Energy: 4.2617385833057\n",
      "Run number:  21\n",
      "Energy: 6.1748064378942615\n",
      "Run number:  31\n",
      "Energy: 4.735960444669617\n",
      "Run number:  41\n",
      "Energy: 4.0576918480349295\n",
      "Run number:  51\n",
      "Energy: 3.834899785883565\n",
      "=========================\n",
      "Level n =  7\n",
      "Final Energy: 3.5945645424833166\n",
      "========================= \n",
      "\n"
     ]
    }
   ],
   "source": [
    "string_series = open(\"parameters.txt\").read()\n",
    "parameters = []\n",
    "for item in string_series.split():\n",
    "    parameters.append(float(item))\n",
    "parameters = [parameters]\n",
    "from next_level import *\n",
    "number_of_levels = 7\n",
    "n_reps   = 52\n",
    "\n",
    "for lev in range(number_of_levels):\n",
    "    parameters = next_level(n_qubits,n_layer,H,ansatz,parameters,shots,exact_instance,lr,n_reps)"
   ]
  },
  {
   "cell_type": "code",
   "execution_count": 6,
   "id": "4c8dc79f-ddd8-4929-bbf8-b71fc7975a93",
   "metadata": {},
   "outputs": [],
   "source": [
    "np.savetxt('parameters_long.txt',parameters)"
   ]
  },
  {
   "cell_type": "code",
   "execution_count": 10,
   "id": "4f320711-9634-4636-8d51-1d2c1324ef63",
   "metadata": {},
   "outputs": [
    {
     "name": "stdout",
     "output_type": "stream",
     "text": [
      "Run number:  1\n",
      "Energy: 10.65640579685073\n",
      "Run number:  11\n",
      "Energy: 3.780237572253982\n",
      "Run number:  21\n",
      "Energy: 3.766203301524482\n",
      "Run number:  31\n",
      "Energy: 3.7562232503107227\n",
      "Run number:  41\n",
      "Energy: 3.745910583928294\n",
      "Run number:  51\n",
      "Energy: 3.7348599679137746\n",
      "Run number:  61\n",
      "Energy: 3.7227014261763087\n",
      "Run number:  71\n",
      "Energy: 3.709044938398662\n",
      "Run number:  81\n",
      "Energy: 3.6934356647047335\n",
      "Run number:  91\n",
      "Energy: 3.6753233315814517\n",
      "Run number:  101\n",
      "Energy: 3.6540861324893994\n",
      "Run number:  111\n",
      "Energy: 3.629193561578177\n",
      "Run number:  121\n",
      "Energy: 3.6006068124294752\n",
      "Run number:  131\n",
      "Energy: 3.5693866927347204\n",
      "Run number:  141\n",
      "Energy: 3.538094235542318\n",
      "=========================\n",
      "Level n =  6\n",
      "Final Energy: 3.503730146889886\n",
      "========================= \n",
      "\n",
      "Run number:  1\n",
      "Energy: 12.98708576172222\n",
      "Run number:  11\n",
      "Energy: 4.135300214444604\n",
      "Run number:  21\n",
      "Energy: 3.943953463117699\n",
      "Run number:  31\n",
      "Energy: 3.9111263535463197\n",
      "Run number:  41\n",
      "Energy: 3.9049016735254147\n",
      "Run number:  51\n",
      "Energy: 3.9031730051639073\n",
      "Run number:  61\n",
      "Energy: 3.9026593800645077\n",
      "Run number:  71\n",
      "Energy: 3.902510960488857\n",
      "Run number:  81\n",
      "Energy: 3.9024691236812297\n",
      "Run number:  91\n",
      "Energy: 3.902457497073903\n",
      "Run number:  101\n",
      "Energy: 3.9024542893701866\n",
      "Run number:  111\n",
      "Energy: 3.902453407331214\n",
      "Run number:  121\n",
      "Energy: 3.9024531650788297\n",
      "Run number:  131\n",
      "Energy: 3.9024530985444015\n",
      "Run number:  141\n",
      "Energy: 3.9024530802590025\n",
      "Run number:  151\n",
      "Energy: 3.902453075228679\n",
      "Run number:  161\n",
      "Energy: 3.902453073843216\n",
      "Run number:  171\n",
      "Energy: 3.9024530734611673\n",
      "=========================\n",
      "Level n =  7\n",
      "Final Energy: 3.8759528604741376\n",
      "========================= \n",
      "\n"
     ]
    }
   ],
   "source": [
    "parameters = parameters[:][0:6]\n",
    "n_reps = 120\n",
    "for level in range(6,8):\n",
    "    n_reps = n_reps + 30\n",
    "    parameters = next_level(n_qubits,n_layer,H,ansatz,parameters,shots,exact_instance,lr,n_reps)"
   ]
  },
  {
   "cell_type": "code",
   "execution_count": null,
   "id": "b957486b-9ea1-4384-bffc-50166199c8f0",
   "metadata": {},
   "outputs": [],
   "source": []
  }
 ],
 "metadata": {
  "kernelspec": {
   "display_name": "Python 3",
   "language": "python",
   "name": "python3"
  },
  "language_info": {
   "codemirror_mode": {
    "name": "ipython",
    "version": 3
   },
   "file_extension": ".py",
   "mimetype": "text/x-python",
   "name": "python",
   "nbconvert_exporter": "python",
   "pygments_lexer": "ipython3",
   "version": "3.9.2"
  }
 },
 "nbformat": 4,
 "nbformat_minor": 5
}
