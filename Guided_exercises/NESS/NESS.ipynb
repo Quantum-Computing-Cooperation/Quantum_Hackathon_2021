{
 "cells": [
  {
   "cell_type": "markdown",
   "metadata": {},
   "source": [
    "# Non-equilibrium Steady-State of open quantum systems\n",
    "## Single spin subject to relaxation and extrenal fields"
   ]
  },
  {
   "cell_type": "markdown",
   "metadata": {},
   "source": [
    "This Notebook introduces an algorithm developed here at EPFL (from Nathan Ramusat and Pr. Savona, who you've met not so long ago) and is dedicated to the determination of the non equilibrium steady state of an open quantum system.\n",
    "We will focus on the usecase of a single spin subject to relaxation and external fields.\n",
    "The Linblad equation yields for this specific case:\n",
    "$$\n",
    "\\dot\\rho=-i[H,\\rho]-\\frac12\\{\\sigma^+\\sigma^-,\\rho\\}+\\sigma^-\\rho\\sigma^+\n",
    "$$\n",
    "with $H=hX$. Aftter vectorization, the vectorized Linbladian is therefore:\n",
    "$$\n",
    " \\mathcal L=-i\\left(I\\otimes H-H^T\\otimes I\\right)-\\frac12\\left(I\\otimes\\sigma^+\\sigma^-+\\sigma^+\\sigma^-\\otimes I-2\\sigma^-\\otimes\\sigma^+-\\right)\n",
    "$$"
   ]
  },
  {
   "cell_type": "markdown",
   "metadata": {},
   "source": [
    "### 1. $M$-operator encoding\n",
    "Decompose the $\\mathcal L$ operator into $\\mathcal L=\\mathcal L_H-i\\mathcal L_A$ with $\\mathcal L_{H,A}$ hermitian operators. Then, implement analytically the $M$-operator, defined as:\n",
    "$$\n",
    "M=X\\otimes\\mathcal L_H+Y\\otimes\\mathcal L_A\n",
    "$$"
   ]
  },
  {
   "cell_type": "markdown",
   "metadata": {},
   "source": [
    "You should find $M$ as a sum of Pauli terms.\n",
    "Now, the next step is to exponentiate this operator as $e^{iMt_0}$.\n",
    "To do so, you can use approximation formulas and neglect higher order terms (eg Trotter Suzuki formula or Baker-Campbell-Hausdorf) to be left with product of unitaries, implemented easily in Qiskit. Take a look at Appendix A of the reference paper for further information (https://arxiv.org/pdf/2008.07133.pdf)."
   ]
  },
  {
   "cell_type": "markdown",
   "metadata": {},
   "source": [
    "### 2. Quantum Phase Estimation and NESS solver\n",
    "To perform QPE, you need to first implement the Inverse Quantum Fourier Transform (IQFT), a very important subroutine in quantum information processing contained in key algorithms such as Shor's algorithm. The implementation of the IQFT circuit (to be found in Wikipedia for example) can be done straightforwardly (can be a task for beginners!). Put the result in the function inverse_qft() below. Your function should take a circuit as input and add to this circuit the IQFT subroutine."
   ]
  },
  {
   "cell_type": "code",
   "execution_count": null,
   "metadata": {},
   "outputs": [],
   "source": [
    "def inverse_qft(circuit, n):\n",
    "    \"\"\"Compute IQFT below, n is the number of qubits in your system\"\"\"\n",
    "    \n",
    "    return circuit"
   ]
  },
  {
   "cell_type": "markdown",
   "metadata": {},
   "source": [
    "The file prepare.py contains a definition of the circuit preparation operator $\\mathcal P$, as in the definition of the NESS algorithm. Start by defining the full Quantum Phase Estimation (QPE) circuit using $t=3$ qubits in the first register. You may want to use the Trotter-Suzuki approximation for all $U^{2^j}$ circuits, recalling $U\\equiv\\exp(2\\pi t_0M)$. We can take $t_0=0.1$. Then, use $\\mathcal P$, the QPE and the qft.py functions to assemble the NESS solver."
   ]
  },
  {
   "cell_type": "code",
   "execution_count": 1,
   "metadata": {},
   "outputs": [],
   "source": [
    "def NESS_solver():\n",
    "    \"\"\"\n",
    "    Compute the Phase estimation algorithm using the controlled versions of the unitary U.\n",
    "    Check the Qiskit helper function file to ease the writing of the controlled version\"\"\"\n",
    "    return 0."
   ]
  },
  {
   "cell_type": "markdown",
   "metadata": {},
   "source": [
    "### 3. Measurements"
   ]
  },
  {
   "cell_type": "markdown",
   "metadata": {},
   "source": [
    "Recalling the following proposition, implement the measurement of the average magnetization $\\langle\\sigma_z\\rangle$ of the system.\n",
    "\n",
    "For $|\\psi\\rangle$ the circuit output state and $O$ a hermitian operator to be measured:\n",
    "$$\n",
    "\\langle O\\rangle=\\langle\\psi| I_t \\otimes X\\otimes I_N\\otimes O|\\psi\\rangle\n",
    "$$\n",
    "where $I_t$ is the identity operator acting on the first register, $X$ the Pauli matrix acting on the first qubit of the second register, $I_N$ the identity acting on the $N$ following qubits and $O$ acting on the $N$ remaining qubits of the second register.\n"
   ]
  },
  {
   "cell_type": "code",
   "execution_count": null,
   "metadata": {},
   "outputs": [],
   "source": []
  },
  {
   "cell_type": "markdown",
   "metadata": {},
   "source": [
    "### 4. Results analysis"
   ]
  },
  {
   "cell_type": "markdown",
   "metadata": {},
   "source": [
    "Compute the estimated average magnetization $\\langle\\sigma_z\\rangle$ for several values of $h$. How does it compare with analytic results? Try changing the number of qubits in the first register $t$ and see if the accuracy can be improved. "
   ]
  },
  {
   "cell_type": "code",
   "execution_count": null,
   "metadata": {},
   "outputs": [],
   "source": []
  }
 ],
 "metadata": {
  "kernelspec": {
   "display_name": "Python 3",
   "language": "python",
   "name": "python3"
  },
  "language_info": {
   "codemirror_mode": {
    "name": "ipython",
    "version": 3
   },
   "file_extension": ".py",
   "mimetype": "text/x-python",
   "name": "python",
   "nbconvert_exporter": "python",
   "pygments_lexer": "ipython3",
   "version": "3.9.1"
  }
 },
 "nbformat": 4,
 "nbformat_minor": 5
}
