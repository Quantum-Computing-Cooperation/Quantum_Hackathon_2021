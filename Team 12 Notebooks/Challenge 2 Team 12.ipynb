{
 "cells": [
  {
   "cell_type": "code",
   "execution_count": 1,
   "id": "5b143860",
   "metadata": {},
   "outputs": [],
   "source": [
    "from qiskit.opflow import Z, I, X, Y\n",
    "from qiskit.opflow import CircuitStateFn, StateFn, CircuitSampler, PauliExpectation, ListOp, TensoredOp\n",
    "\n",
    "from qiskit.providers.aer import AerSimulator\n",
    "from qiskit.utils import QuantumInstance\n",
    "from qiskit.circuit import QuantumCircuit, QuantumRegister, Parameter, ParameterVector\n",
    "from qiskit.algorithms.optimizers import ADAM, SPSA\n",
    "from qiskit.circuit.library import TwoLocal\n",
    "from qiskit.circuit.library.n_local import EfficientSU2, RealAmplitudes\n",
    "from qiskit import Aer, execute\n",
    "\n",
    "import numpy as np\n",
    "import matplotlib.pyplot as plt"
   ]
  },
  {
   "cell_type": "code",
   "execution_count": 2,
   "id": "e92f08f2",
   "metadata": {},
   "outputs": [],
   "source": [
    "from qiskit_nature.operators.second_quantization import FermionicOp\n",
    "from qiskit_nature.mappers.second_quantization import JordanWignerMapper"
   ]
  },
  {
   "cell_type": "code",
   "execution_count": 3,
   "id": "b2512b5c",
   "metadata": {},
   "outputs": [
    {
     "name": "stdout",
     "output_type": "stream",
     "text": [
      "Fermionic Operator\n",
      "register length=4, number terms=20\n",
      "  (1+0j) * ( --II )\n",
      "+ (1+0j) * ( +-II )\n",
      "+ (1+0j) * ( -+II )\n",
      "+ (1+0j) * ( ++II )\n",
      "+ (-2+0j) * ( --II )\n",
      "+ (-2+0j) * ( -+II )\n",
      "+ (1+0j) * ( I-+I )\n",
      "+ (-1+0j) * ( I++I )\n",
      "+ (-1+0j) * ( I--I )\n",
      "+ (1+0j) * ( ...\n",
      "1.0 * ZZII\n",
      "+ 1.0 * IYYI\n",
      "+ 1.0 * IIXX\n"
     ]
    },
    {
     "name": "stderr",
     "output_type": "stream",
     "text": [
      "<ipython-input-3-754760bbdfb7>:1: UserWarning: The default value for `display_format` will be changed from 'dense' to 'sparse' in version 0.3.0. Once that happens, you must specify display_format='dense' directly.\n",
      "  a0 = FermionicOp('-III')\n"
     ]
    }
   ],
   "source": [
    "a0 = FermionicOp('-III')\n",
    "a0_dagger = FermionicOp('+III')\n",
    "a1 = FermionicOp('I-II')\n",
    "a1_dagger = FermionicOp('I+II')\n",
    "a2 = FermionicOp('II-I')\n",
    "a2_dagger = FermionicOp('II+I')\n",
    "a3 = FermionicOp('III-')\n",
    "a3_dagger = FermionicOp('III+')\n",
    "\n",
    "H = (FermionicOp('-III') + FermionicOp('+III')) @ (FermionicOp('I-II') + FermionicOp('I+II')) @ (FermionicOp('IIII') - 2*(FermionicOp('+III') @ FermionicOp('-III'))) \n",
    "H += (FermionicOp('I-II') - FermionicOp('I+II')) @ (FermionicOp('II+I') - FermionicOp('II-I')) @ (FermionicOp('IIII') - 2*(FermionicOp('I+II') @ FermionicOp('I-II'))) \n",
    "H += (FermionicOp('IIII') - 2*(FermionicOp('II+I') @ FermionicOp('II-I'))) @ (FermionicOp('IIII') - 2*(FermionicOp('III+') @ FermionicOp('III-'))) \n",
    "\n",
    "print(H)\n",
    "\n",
    "mapper = JordanWignerMapper()\n",
    "\n",
    "print(mapper.map(H))\n",
    "H = mapper.map(H)"
   ]
  },
  {
   "cell_type": "code",
   "execution_count": 4,
   "id": "73b1f9d9",
   "metadata": {},
   "outputs": [
    {
     "data": {
      "text/html": [
       "<pre style=\"word-wrap: normal;white-space: pre;background: #fff0;line-height: 1.1;font-family: &quot;Courier New&quot;,Courier,monospace\">      ┌──────────┐┌──────────┐ ░                                ░  ┌──────────┐»\n",
       "q0_0: ┤ Ry(θ[0]) ├┤ Rz(θ[4]) ├─░───■────■────■──────────────────░──┤ Ry(θ[8]) ├»\n",
       "      ├──────────┤├──────────┤ ░ ┌─┴─┐  │    │                  ░  ├──────────┤»\n",
       "q0_1: ┤ Ry(θ[1]) ├┤ Rz(θ[5]) ├─░─┤ X ├──┼────┼────■────■────────░──┤ Ry(θ[9]) ├»\n",
       "      ├──────────┤├──────────┤ ░ └───┘┌─┴─┐  │  ┌─┴─┐  │        ░ ┌┴──────────┤»\n",
       "q0_2: ┤ Ry(θ[2]) ├┤ Rz(θ[6]) ├─░──────┤ X ├──┼──┤ X ├──┼────■───░─┤ Ry(θ[10]) ├»\n",
       "      ├──────────┤├──────────┤ ░      └───┘┌─┴─┐└───┘┌─┴─┐┌─┴─┐ ░ ├───────────┤»\n",
       "q0_3: ┤ Ry(θ[3]) ├┤ Rz(θ[7]) ├─░───────────┤ X ├─────┤ X ├┤ X ├─░─┤ Ry(θ[11]) ├»\n",
       "      └──────────┘└──────────┘ ░           └───┘     └───┘└───┘ ░ └───────────┘»\n",
       "«      ┌───────────┐\n",
       "«q0_0: ┤ Rz(θ[12]) ├\n",
       "«      ├───────────┤\n",
       "«q0_1: ┤ Rz(θ[13]) ├\n",
       "«      ├───────────┤\n",
       "«q0_2: ┤ Rz(θ[14]) ├\n",
       "«      ├───────────┤\n",
       "«q0_3: ┤ Rz(θ[15]) ├\n",
       "«      └───────────┘</pre>"
      ],
      "text/plain": [
       "      ┌──────────┐┌──────────┐ ░                                ░  ┌──────────┐»\n",
       "q0_0: ┤ Ry(θ[0]) ├┤ Rz(θ[4]) ├─░───■────■────■──────────────────░──┤ Ry(θ[8]) ├»\n",
       "      ├──────────┤├──────────┤ ░ ┌─┴─┐  │    │                  ░  ├──────────┤»\n",
       "q0_1: ┤ Ry(θ[1]) ├┤ Rz(θ[5]) ├─░─┤ X ├──┼────┼────■────■────────░──┤ Ry(θ[9]) ├»\n",
       "      ├──────────┤├──────────┤ ░ └───┘┌─┴─┐  │  ┌─┴─┐  │        ░ ┌┴──────────┤»\n",
       "q0_2: ┤ Ry(θ[2]) ├┤ Rz(θ[6]) ├─░──────┤ X ├──┼──┤ X ├──┼────■───░─┤ Ry(θ[10]) ├»\n",
       "      ├──────────┤├──────────┤ ░      └───┘┌─┴─┐└───┘┌─┴─┐┌─┴─┐ ░ ├───────────┤»\n",
       "q0_3: ┤ Ry(θ[3]) ├┤ Rz(θ[7]) ├─░───────────┤ X ├─────┤ X ├┤ X ├─░─┤ Ry(θ[11]) ├»\n",
       "      └──────────┘└──────────┘ ░           └───┘     └───┘└───┘ ░ └───────────┘»\n",
       "«      ┌───────────┐\n",
       "«q0_0: ┤ Rz(θ[12]) ├\n",
       "«      ├───────────┤\n",
       "«q0_1: ┤ Rz(θ[13]) ├\n",
       "«      ├───────────┤\n",
       "«q0_2: ┤ Rz(θ[14]) ├\n",
       "«      ├───────────┤\n",
       "«q0_3: ┤ Rz(θ[15]) ├\n",
       "«      └───────────┘"
      ]
     },
     "execution_count": 4,
     "metadata": {},
     "output_type": "execute_result"
    }
   ],
   "source": [
    "n_qubits = 4\n",
    "params = ParameterVector('θ',(n_qubits*4))\n",
    "\n",
    "qr = QuantumRegister(n_qubits)\n",
    "ansatz = QuantumCircuit(qr)\n",
    "\n",
    "       \n",
    "ansatz.compose(EfficientSU2(4, reps=1, insert_barriers=True).decompose(), inplace=True)\n",
    "ansatz.draw()"
   ]
  },
  {
   "cell_type": "code",
   "execution_count": 5,
   "id": "1cf897d0",
   "metadata": {},
   "outputs": [],
   "source": [
    "from qiskit.providers.aer import AerSimulator\n",
    "\n",
    "sim = AerSimulator()\n",
    "\n",
    "from qiskit.algorithms.optimizers import SPSA\n",
    "\n",
    "optimizer = SPSA(maxiter=300)\n",
    "\n",
    "from qiskit.algorithms import VQE as VQE_q\n",
    "\n",
    "vqe = VQE_q(\n",
    "    ansatz=ansatz,\n",
    "    optimizer=optimizer,\n",
    "    quantum_instance=sim  # use qiskit.utils.QuantumInstance for error mitigation and other features\n",
    ")\n",
    "\n",
    "vqe_result = vqe.compute_minimum_eigenvalue(H)"
   ]
  },
  {
   "cell_type": "code",
   "execution_count": 6,
   "id": "05af4242",
   "metadata": {},
   "outputs": [
    {
     "name": "stdout",
     "output_type": "stream",
     "text": [
      "{   'aux_operator_eigenvalues': None,\n",
      "    'cost_function_evals': 600,\n",
      "    'eigenstate': {   '0001': 0.15625,\n",
      "                      '0010': 0.16237976320958225,\n",
      "                      '0100': 0.6952686081652184,\n",
      "                      '0111': 0.6817945071647321,\n",
      "                      '1000': 0.03125},\n",
      "    'eigenvalue': (-2.23828125+0j),\n",
      "    'optimal_parameters': {   ParameterVectorElement(θ[7]): -6.395952848173277,\n",
      "                              ParameterVectorElement(θ[4]): 2.250509332217714,\n",
      "                              ParameterVectorElement(θ[1]): 0.4324056782064047,\n",
      "                              ParameterVectorElement(θ[6]): -3.4016515185029284,\n",
      "                              ParameterVectorElement(θ[11]): 6.226143981483694,\n",
      "                              ParameterVectorElement(θ[3]): -6.218365322324229,\n",
      "                              ParameterVectorElement(θ[13]): -4.321134059757356,\n",
      "                              ParameterVectorElement(θ[15]): 1.7460062016947542,\n",
      "                              ParameterVectorElement(θ[10]): -3.144056546098471,\n",
      "                              ParameterVectorElement(θ[0]): 7.846190848261606,\n",
      "                              ParameterVectorElement(θ[14]): -3.4620044347295287,\n",
      "                              ParameterVectorElement(θ[2]): 0.07498512390436408,\n",
      "                              ParameterVectorElement(θ[12]): 5.114535339252314,\n",
      "                              ParameterVectorElement(θ[5]): 7.495171057359882,\n",
      "                              ParameterVectorElement(θ[9]): -6.273228533679424,\n",
      "                              ParameterVectorElement(θ[8]): -0.015414042392154728},\n",
      "    'optimal_point': array([ 7.84619085,  0.43240568,  0.07498512, -6.21836532,  2.25050933,\n",
      "        7.49517106, -3.40165152, -6.39595285, -0.01541404, -6.27322853,\n",
      "       -3.14405655,  6.22614398,  5.11453534, -4.32113406, -3.46200443,\n",
      "        1.7460062 ]),\n",
      "    'optimal_value': -2.23828125,\n",
      "    'optimizer_evals': None,\n",
      "    'optimizer_time': 8.168923377990723}\n"
     ]
    }
   ],
   "source": [
    "print(vqe_result)"
   ]
  },
  {
   "cell_type": "code",
   "execution_count": 7,
   "id": "895a21f4",
   "metadata": {},
   "outputs": [
    {
     "ename": "TypeError",
     "evalue": "Can't instantiate abstract class Eigensolver with abstract methods compute_eigenvalues",
     "output_type": "error",
     "traceback": [
      "\u001b[1;31m---------------------------------------------------------------------------\u001b[0m",
      "\u001b[1;31mTypeError\u001b[0m                                 Traceback (most recent call last)",
      "\u001b[1;32m<ipython-input-7-3cd3c89250db>\u001b[0m in \u001b[0;36m<module>\u001b[1;34m\u001b[0m\n\u001b[0;32m      1\u001b[0m \u001b[1;32mfrom\u001b[0m \u001b[0mqiskit\u001b[0m\u001b[1;33m.\u001b[0m\u001b[0malgorithms\u001b[0m \u001b[1;32mimport\u001b[0m \u001b[0mEigensolver\u001b[0m\u001b[1;33m\u001b[0m\u001b[1;33m\u001b[0m\u001b[0m\n\u001b[0;32m      2\u001b[0m \u001b[1;33m\u001b[0m\u001b[0m\n\u001b[1;32m----> 3\u001b[1;33m \u001b[0mes\u001b[0m \u001b[1;33m=\u001b[0m \u001b[0mEigensolver\u001b[0m\u001b[1;33m(\u001b[0m\u001b[1;33m)\u001b[0m\u001b[1;33m\u001b[0m\u001b[1;33m\u001b[0m\u001b[0m\n\u001b[0m\u001b[0;32m      4\u001b[0m \u001b[1;33m\u001b[0m\u001b[0m\n\u001b[0;32m      5\u001b[0m \u001b[0mes\u001b[0m\u001b[1;33m.\u001b[0m\u001b[0mcompute_eigenvalues\u001b[0m\u001b[1;33m(\u001b[0m\u001b[0mH\u001b[0m\u001b[1;33m)\u001b[0m\u001b[1;33m\u001b[0m\u001b[1;33m\u001b[0m\u001b[0m\n",
      "\u001b[1;31mTypeError\u001b[0m: Can't instantiate abstract class Eigensolver with abstract methods compute_eigenvalues"
     ]
    }
   ],
   "source": [
    "from qiskit.algorithms import Eigensolver\n",
    "\n",
    "es = Eigensolver()\n",
    "\n",
    "es.compute_eigenvalues(H)"
   ]
  }
 ],
 "metadata": {
  "kernelspec": {
   "display_name": "Python 3",
   "language": "python",
   "name": "python3"
  },
  "language_info": {
   "codemirror_mode": {
    "name": "ipython",
    "version": 3
   },
   "file_extension": ".py",
   "mimetype": "text/x-python",
   "name": "python",
   "nbconvert_exporter": "python",
   "pygments_lexer": "ipython3",
   "version": "3.8.11"
  }
 },
 "nbformat": 4,
 "nbformat_minor": 5
}
