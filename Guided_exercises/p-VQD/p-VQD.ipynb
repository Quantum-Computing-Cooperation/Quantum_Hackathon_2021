{
 "cells": [
  {
   "cell_type": "markdown",
   "id": "cafe106d-5ea3-4d71-b0c7-b5b092bff170",
   "metadata": {},
   "source": [
    "# Projected-Variational Quantum Dynamics\n",
    "\n",
    "How can we simulate the dynamics of a quantum system? This Notebook introduces the projected-Variational Quantum Dynamics (p-VQD) algorithm (developed at EPFL!) for this purpose. p-VQD realises an iterative global projection of the exact time-evolution onto a well-chosen parametrized manifold.\n",
    "\n",
    "To fix the ideas, let us consider the following open boundary Ising model:\n",
    "$$\n",
    "H =\\frac14 \\sum_{k=0}^1Z_kZ_{k+1}+\\sum_{k=0}^2X_k\n",
    "$$\n",
    "Let $|\\psi(t)\\rangle$ be the exact state of the system at time $t$. Let $\\omega \\in\\mathbb R^p$ be a set of $p$ parameters and $|\\psi_{\\omega(t)}\\rangle$ be the approximation of $|\\psi(t)\\rangle$ living on the parametrised manifold, at time $t$.\n",
    "\n",
    "Given an initial choice $\\omega(0)$, the projected-Variational Quantum Dynamics (p-VQD) proposes to choose $\\omega(t+\\delta t)=\\omega(t)+d\\omega^*$, with $d\\omega^*$ satisfying:\n",
    "$$\n",
    "d\\omega^*=\\text{argmax}_{d\\omega\\in\\mathbb R^p}\\left|\\langle{\\phi(t+\\delta t)}|\\psi_{\\omega(t)+d\\omega}\\rangle\\right|^2\n",
    "$$ \n",
    "In practice, this is done by minimizing the step infidelity:\n",
    "$$\n",
    "L(\\delta\\omega)=\\frac{1-\\left|\\langle{\\phi(t+\\delta t)}|\\psi_{\\omega(t)+\\delta \\omega}\\rangle\\right|^2}{\\delta t^2}\n",
    "$$\n",
    "at each time $t$."
   ]
  },
  {
   "cell_type": "markdown",
   "id": "213da04c-17aa-4d8d-890e-14bb7925ae7f",
   "metadata": {},
   "source": [
    "## 1. Ansatz and Hamiltonian\n",
    "\n",
    "In order to compute $|\\psi_{\\omega}\\rangle\\equiv U(\\omega)|0\\rangle$, implement the following ansatz:\n",
    "$$\n",
    "U(\\omega)=\\prod_{l=1}^d\\left(\\prod_{i=1}^NR_\\alpha^{(i)}(\\omega_{i,l})\\right)\\left(\\prod_{j=1}^{N-1}e^{-i\\omega_{j,l}Z_jZ_{j+1}}\\right)\n",
    "$$\n",
    "where $\\alpha = x$ if $l$ is odd, $\\alpha = y$ if $l$ is even. This ansatz allows us to reach the manifold $U(\\mathbb R^p)$."
   ]
  },
  {
   "cell_type": "code",
   "execution_count": 1,
   "id": "9d264544-48cd-4bc4-91d8-3d8a2ae4a3c3",
   "metadata": {},
   "outputs": [],
   "source": [
    "from qiskit import QuantumCircuit\n",
    "\n",
    "def hweff_ansatz(n_spins,depth,p):\n",
    "    '''\n",
    "    Input: number of spins N, ansatz depth d and parameters \\omega\n",
    "\n",
    "    Output: quantum circuit U(\\omega)\n",
    "    '''\n",
    "    circuit = QuantumCircuit(n_spins)\n",
    "    count = 0\n",
    "\n",
    "    for j in range(depth):\n",
    "        print(\"Your code goes here!\")\n",
    "    return circuit"
   ]
  },
  {
   "cell_type": "markdown",
   "id": "18a7d13c-e589-4989-a78a-160e46279bf4",
   "metadata": {},
   "source": [
    "Also implement the hamiltonian:\n",
    "$$\n",
    "H =J\\sum_{k=0}^{n-1}Z_kZ_{k+1}+h\\sum_{k=0}^n X_k\n",
    "$$"
   ]
  },
  {
   "cell_type": "code",
   "execution_count": 2,
   "id": "cd0cfff6-2ebd-446c-a7c5-c166a709040c",
   "metadata": {},
   "outputs": [],
   "source": [
    "def hamiltonian(n_spins,coupling,field):\n",
    "    '''\n",
    "    Input:\n",
    "        n (integer)\n",
    "        J    (float)\n",
    "        h   (float)\n",
    "\n",
    "    Output:\n",
    "        Hamiltonian of Ising model with ZZ interaction a X transverse field. Should be of PauliOp type.\n",
    "    '''\n",
    "    return 0"
   ]
  },
  {
   "cell_type": "markdown",
   "id": "aec9ec74-eded-44a0-8568-bf570ed4884c",
   "metadata": {},
   "source": [
    "## 2. Evolved state\n",
    "Now, we want to compute the evolved state:\n",
    "$$\n",
    "|\\phi(t+\\delta t)\\rangle=e^{-iH\\delta t}|\\psi_{\\omega(t)}\\rangle\n",
    "$$\n",
    "for certain parameters $|\\omega(t)\\rangle$ and a time step $\\delta t$. Implement a function returning such $|\\phi(t+\\delta t)\\rangle$. You may to use a Trotter approximation of the unitary evolutin operator. "
   ]
  },
  {
   "cell_type": "code",
   "execution_count": 3,
   "id": "ab6f0714-930b-497a-bafc-8454685978ae",
   "metadata": {},
   "outputs": [],
   "source": [
    "def evolved_state():\n",
    "    '''\n",
    "    Input: omega(t), delta_t, \n",
    "    \n",
    "    Output: Quantum circuit U such that the evolved state is U\\ket0.\n",
    "    '''\n",
    "    return 0."
   ]
  },
  {
   "cell_type": "markdown",
   "id": "3122c5e0-90aa-4259-a681-b4b9243dcbc5",
   "metadata": {},
   "source": [
    "## 3. Overlap\n",
    "The goal of this section is to compute the overlap:\n",
    "$$|\\langle\\phi(t+\\delta t)|\\psi_{\\omega(t)+\\delta \\omega}\\rangle|^2$$\n",
    "You may want to find a quantum circuit $B$ such that this overlap can be computed as a measurement of the $|0\\rangle\\langle0|$:\n",
    "$$\n",
    "|\\langle\\phi(t+\\delta t)|\\psi_{\\omega(t)+\\delta \\omega}\\rangle|^2=\\langle0|B^\\dagger|0\\rangle\\langle0|B|0\\rangle\n",
    "$$\n",
    "From there, you can use the provided expectation_value function."
   ]
  },
  {
   "cell_type": "code",
   "execution_count": 4,
   "id": "558f4a3b-ac92-454e-a588-69abb09ebd35",
   "metadata": {},
   "outputs": [],
   "source": [
    "def overlap():\n",
    "    return 0."
   ]
  },
  {
   "cell_type": "markdown",
   "id": "f02d1406-57ac-4eac-8e30-6d2a3289720a",
   "metadata": {},
   "source": [
    "## 4. Loss function\n",
    "Once you can compute this overlap, transform it into the loss function:\n",
    "$$\n",
    "L(\\delta\\omega)=\\frac{1-\\left|\\langle{\\phi(t+\\delta t)}|\\psi_{\\omega(t)+\\delta \\omega}\\rangle\\right|^2}{\\delta t^2}\n",
    "$$"
   ]
  },
  {
   "cell_type": "code",
   "execution_count": 5,
   "id": "1e793b8c-2455-458c-be07-da2448ca876b",
   "metadata": {},
   "outputs": [],
   "source": [
    "def loss_function():\n",
    "    return 0."
   ]
  },
  {
   "cell_type": "markdown",
   "id": "85fc81ec-eb91-4dc5-bd78-2c812a249194",
   "metadata": {},
   "source": [
    "## 5. Gradient of loss function\n",
    "Using the parameter-shift rule, compute the gradient of the loss function."
   ]
  },
  {
   "cell_type": "code",
   "execution_count": 6,
   "id": "fdcdcafa-0c3e-45de-aec4-07b9d8afebc6",
   "metadata": {},
   "outputs": [],
   "source": [
    "def gradient_loss_function():\n",
    "    return 0."
   ]
  },
  {
   "cell_type": "markdown",
   "id": "578d25a2-1122-4b59-9e5d-464d03ab402b",
   "metadata": {},
   "source": [
    "## 6. Iteration at a given time\n",
    "Given a time $t$ and parameters $\\omega(t)$, implement the computation of $\\omega(t+\\delta t)$ using:\n",
    "$$\n",
    "\\omega(t+\\delta t)=\\omega(t)+\\text{argmax}_{d\\omega\\in\\mathbb R^p}\\left|\\langle\\phi(t+\\delta t)|\\psi_{\\omega(t)+d\\omega}\\rangle\\right|^2\n",
    "$$\n",
    "You may use a gradient descent algorithm."
   ]
  },
  {
   "cell_type": "code",
   "execution_count": 7,
   "id": "e15e52e2-bb06-4bd2-8ec3-1146c4828725",
   "metadata": {},
   "outputs": [],
   "source": [
    "def iteration_step():\n",
    "    omega_t = 0.\n",
    "    return omega_t"
   ]
  },
  {
   "cell_type": "markdown",
   "id": "fe3983a4-69e3-49bc-9701-5dc127467cd7",
   "metadata": {},
   "source": [
    "## 7. Full p-VQD algorithm\n",
    "Using your iteration_step function, implement the full p-VQD algorithm to compute the dynamics of the system, given an initial state. "
   ]
  },
  {
   "cell_type": "code",
   "execution_count": 9,
   "id": "8a025235-d0da-4438-bb7a-7ba59da0d420",
   "metadata": {},
   "outputs": [],
   "source": [
    "def pvqd():\n",
    "    return 0."
   ]
  },
  {
   "cell_type": "markdown",
   "id": "379a6633-ea2b-4473-a8bf-4c25809d4c76",
   "metadata": {},
   "source": [
    "## 8. Comparison between p-VQD and Trotterized time evolution"
   ]
  },
  {
   "cell_type": "markdown",
   "id": "98d76f44-7521-43c8-b5c0-6df18cdf5ea9",
   "metadata": {},
   "source": [
    "For the following open boundary Ising model, compute the time evolution of the magnetization $\\langle\\sigma_z\\rangle$ along the $z$ direction, starting from $|{000}\\rangle$ at time $t=0$. Plot your results. You may compute the time evolution of the system using only the trotterized version of the time evolution operator and compare the results.\n"
   ]
  },
  {
   "cell_type": "code",
   "execution_count": null,
   "id": "66d6bb16-5674-4a30-838f-69f19028a497",
   "metadata": {},
   "outputs": [],
   "source": []
  },
  {
   "cell_type": "code",
   "execution_count": null,
   "id": "62dd5489-bd1c-40bb-b220-a7793fbbcdc2",
   "metadata": {},
   "outputs": [],
   "source": []
  }
 ],
 "metadata": {
  "kernelspec": {
   "display_name": "Python 3",
   "language": "python",
   "name": "python3"
  },
  "language_info": {
   "codemirror_mode": {
    "name": "ipython",
    "version": 3
   },
   "file_extension": ".py",
   "mimetype": "text/x-python",
   "name": "python",
   "nbconvert_exporter": "python",
   "pygments_lexer": "ipython3",
   "version": "3.9.2"
  }
 },
 "nbformat": 4,
 "nbformat_minor": 5
}
