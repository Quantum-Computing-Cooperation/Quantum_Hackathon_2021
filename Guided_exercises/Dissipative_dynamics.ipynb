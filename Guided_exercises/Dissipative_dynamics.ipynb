{
 "cells": [
  {
   "cell_type": "markdown",
   "id": "27e3ea31",
   "metadata": {},
   "source": [
    "# Dynamics through spectral density\n",
    "## A spin in a spin bath"
   ]
  },
  {
   "cell_type": "markdown",
   "id": "272f9664",
   "metadata": {},
   "source": [
    "Consider the example of simulating the Markovian dynamics of a spin in a spin bath at thermal equilibrium. Assume the global system Hamiltonian is of the form:\n",
    "$$\n",
    "H= H_S + H_B + H_I = -\\frac12 Z_0-\\frac12\\sum_{k=1}^8\\omega_kZ_k+\\frac12X\\otimes\\sum_{k=1}^8c_kX_k\n",
    "\\newcommand{\\ket}[1]{\\left|{#1}\\right\\rangle} \\newcommand{\\bra}[1]{\\left\\langle{#1}\\right|}\n",
    "$$\n",
    "where the index $0$ refers to the system spin and indexes $k=1,...,8$ refer to the bath spins. The $(\\omega_k)$ coefficients are the frequencies of the environment modes and $(c_k)$ the coupling constants. Assume the spectral density of the spin bath is expressed as:\n",
    "$$\n",
    "J(\\omega)=2\\pi\\alpha\\omega e^{-\\omega/\\omega_c}\n",
    "$$\n",
    "Set $\\alpha = 2\\cdot10^{-4}$, $\\omega_c/\\Delta_0=100$, $\\beta\\Delta_0=1$. Furthermore, $\\omega_k/\\Delta_0=0.8+0.05k$ and $\\Delta_0\\tau=30$ where $\\tau$ is the time length for a single updation. The density matrix could be initialised to a purely excited state of $H_S = -\\frac{1}{2}Z_0$: $\\ket{1}\\bra{1}$. For simplicity, choose $\\Delta_0$ = 1."
   ]
  },
  {
   "cell_type": "markdown",
   "id": "d2027725",
   "metadata": {},
   "source": [
    "### 1. Initial density matrix\n",
    "With the help of Qiskit's quantum_info module, create a DensityMatrix corresponding to a purely excited state $\\ket{1}\\bra{1}$."
   ]
  },
  {
   "cell_type": "code",
   "execution_count": null,
   "id": "bab44b85",
   "metadata": {},
   "outputs": [],
   "source": []
  },
  {
   "cell_type": "markdown",
   "id": "8007fb1d",
   "metadata": {},
   "source": [
    "### 2. Computation of coupling constants\n",
    "Define a function taking as input an environment mode frequency and returning the coupling between this mode and the system. You may use: \n",
    "$$\n",
    "\\int_{\\omega_k-\\Delta\\omega/2}^{\\omega_k+\\Delta\\omega/2}J(\\omega)d\\omega=\\pi c_k^2\n",
    "$$\n",
    "with $\\Delta\\omega/\\Delta_0=0.05$ in this case."
   ]
  },
  {
   "cell_type": "code",
   "execution_count": 7,
   "id": "87139d35",
   "metadata": {},
   "outputs": [],
   "source": [
    "def coupling():\n",
    "    return 0."
   ]
  },
  {
   "cell_type": "markdown",
   "id": "a4edd949",
   "metadata": {},
   "source": [
    "### 3. Thermalised bath density matrix\n",
    "Compute the temperature $T$ dependent thermalised density matrix $\\rho_B(T)$, following a Boltzmann distribution. The following relation may be useful:\n",
    "$$ \\rho_B(T) = \\bigotimes_{k=1}^d \\rho^{(k)}_B(T)$$\n",
    "where $$\\rho^{(k)}_B(T) = (1-p_k)\\ket{0}\\bra{0}+p_k\\ket{1}\\bra{1} $$\n",
    "with $p_k=(1+e^{\\beta\\omega_k})^{-1}$. The .tensor method may be useful.\n",
    "\n"
   ]
  },
  {
   "cell_type": "code",
   "execution_count": 8,
   "id": "0abda8c5",
   "metadata": {},
   "outputs": [],
   "source": [
    "def environment_density_matrix():\n",
    "    return 0."
   ]
  },
  {
   "cell_type": "markdown",
   "id": "12ccf334",
   "metadata": {},
   "source": [
    "### 4. Global System evoluiton operator U(t) in Trotter-Suzuki formula"
   ]
  },
  {
   "cell_type": "markdown",
   "id": "b0236d70",
   "metadata": {},
   "source": [
    "Construct the evolution operator that applies on the global system for time length $\\tau$, which is denoted by U($\\tau$). It could be decomposed to simpler rotation terms with the formula:\n",
    "$$\n",
    "U(\\tau) = exp[-iH\\tau] = \\lim_{n->\\infty} \\left[e^{-i\\frac{H_S}{\\tau}}e^{-i\\frac{H_{B_1}}{\\tau}}e^{-i\\frac{H_{I_1}}{\\tau}}...e^{-i\\frac{H_{B_8}}{\\tau}}e^{-i\\frac{H_{I_8}}{\\tau}}\\right]\n",
    "$$\n",
    "with\n",
    "$$\n",
    "H_S = -\\frac{1}{2}Z_0, H_{B_k} = -\\frac{1}{2}\\omega_k Z_k, H_{I_k} = \\frac{1}{2}X\\otimes c_kX_k\n",
    "$$\n",
    "You may use Qiskit's QuantumCircuit or Operator to compose an approximate evolution operator with finite n."
   ]
  },
  {
   "cell_type": "code",
   "execution_count": 9,
   "id": "6018800f",
   "metadata": {},
   "outputs": [],
   "source": [
    "def Evolution_Operator():\n",
    "    return 0."
   ]
  },
  {
   "cell_type": "markdown",
   "id": "760e3139",
   "metadata": {},
   "source": [
    "### 5. Iterative evolution of the density matrix"
   ]
  },
  {
   "cell_type": "markdown",
   "id": "0a1c3739",
   "metadata": {},
   "source": [
    "We now propose to compute the density matrix at succesive time steps according to:\n",
    "$$\n",
    "\\forall j\\in\\mathbb N:\\rho_S^{(j+1)}=\\mathcal T_B\\left(U(t)\\rho_S^{(j)}\\otimes\\rho_B(T)U^\\dagger(t)\\right)\n",
    "$$\n",
    "Implement this algorithm. You may want to use the DensityMatrix class .expand and .evolve, as well as the partial_trace in the quantum_info module."
   ]
  },
  {
   "cell_type": "code",
   "execution_count": null,
   "id": "dec392ab",
   "metadata": {},
   "outputs": [],
   "source": []
  },
  {
   "cell_type": "markdown",
   "id": "1c07cf95",
   "metadata": {},
   "source": [
    "### 6.Result analysis\n",
    "Study the evolution of the density matrix. What is the probability that the spin remains in an excited state? What is the effect of the environment on it? Comment."
   ]
  },
  {
   "cell_type": "code",
   "execution_count": null,
   "id": "1d3e31ad",
   "metadata": {},
   "outputs": [],
   "source": []
  }
 ],
 "metadata": {
  "kernelspec": {
   "display_name": "Python 3",
   "language": "python",
   "name": "python3"
  },
  "language_info": {
   "codemirror_mode": {
    "name": "ipython",
    "version": 3
   },
   "file_extension": ".py",
   "mimetype": "text/x-python",
   "name": "python",
   "nbconvert_exporter": "python",
   "pygments_lexer": "ipython3",
   "version": "3.9.2"
  }
 },
 "nbformat": 4,
 "nbformat_minor": 5
}
